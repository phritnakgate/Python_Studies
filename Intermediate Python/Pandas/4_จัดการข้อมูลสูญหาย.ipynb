{
 "cells": [
  {
   "cell_type": "code",
   "execution_count": null,
   "metadata": {},
   "outputs": [],
   "source": [
    "#การตรวจสอบข้อมูลสูญหาย => isnull()\n",
    "import pandas as pd\n",
    "df_checknull = pd.read_excel('D:\\เรียน Coding\\Python Studies\\Intermediate Python\\Pandas\\employee.xlsx',index_col='Name')\n",
    "print(df_checknull.isnull())\n",
    "print(df_checknull.isnull().any())    #หาว่าคอลัมน์ใดที่มีค่าว่าง\n",
    "print(df_checknull.isnull().sum())    #มีค่าว่างกี่แถว"
   ]
  },
  {
   "cell_type": "code",
   "execution_count": null,
   "metadata": {},
   "outputs": [],
   "source": [
    "#การตรวจสอบข้อมูลครบถ้วน => notnull()\n",
    "print(df_checknull.notnull())\n",
    "print(df_checknull.notnull().any())   #หาว่าคอลัมน์ใดที่มีข้อมูลครบ\n",
    "print(df_checknull.notnull().sum())   #มีข้อมูลครบถ้วนกี่แถว"
   ]
  },
  {
   "cell_type": "code",
   "execution_count": null,
   "metadata": {},
   "outputs": [],
   "source": [
    "#การจัดการข้อมูลสูญหายด้วยวิธีแทนที่ => fillna\n",
    "#1. แทนที่ด้วยค่าเฉลี่ย\n",
    "df_checknull.describe()     #เช็คค่าเฉลี่ย\n",
    "select = 'Salary'           #เลือก column\n",
    "df_checknull[select] = df_checknull[select].fillna(df_checknull[select].mean())\n",
    "print(df_checknull)"
   ]
  },
  {
   "cell_type": "code",
   "execution_count": null,
   "metadata": {},
   "outputs": [],
   "source": [
    "#2. แทนที่ด้วยค่าตรงๆที่กำหนดขึ้นมา\n",
    "select = 'Salary'\n",
    "df_checknull[select] = df_checknull[select].fillna(18000)\n",
    "print(df_checknull)"
   ]
  },
  {
   "cell_type": "code",
   "execution_count": null,
   "metadata": {},
   "outputs": [],
   "source": [
    "#3. แทนที่ด้วยค่าก่อนหน้า\n",
    "df_checknull.fillna(method='ffill',inplace=True)\n",
    "print(df_checknull)"
   ]
  },
  {
   "cell_type": "code",
   "execution_count": null,
   "metadata": {},
   "outputs": [],
   "source": [
    "#4. แทนที่ด้วยค่าถัดไป\n",
    "df_checknull.fillna(method='bfill',inplace=True)\n",
    "print(df_checknull)"
   ]
  },
  {
   "cell_type": "code",
   "execution_count": null,
   "metadata": {},
   "outputs": [],
   "source": [
    "#การจัดการข้อมูลสูญหายด้วยวิธีลบ => dropna\n",
    "#1. ลบทั้งหมด\n",
    "df_checknull.dropna(inplace=True)\n",
    "print(df_checknull)"
   ]
  },
  {
   "cell_type": "code",
   "execution_count": null,
   "metadata": {},
   "outputs": [],
   "source": [
    "#2. ลบแถวบางส่วนที่มีค่าว่าง\n",
    "df_checknull.dropna(subset=['Job','Salary'],inplace=True)\n",
    "print(df_checknull)"
   ]
  },
  {
   "cell_type": "code",
   "execution_count": null,
   "metadata": {},
   "outputs": [],
   "source": [
    "#3. ลบข้อมูลที่ไม่ครบ\n",
    "df_checknull.dropna(axis='columns',inplace=True)\n",
    "print(df_checknull)"
   ]
  },
  {
   "cell_type": "code",
   "execution_count": null,
   "metadata": {},
   "outputs": [],
   "source": [
    "#4. ลบแถวที่มีค่าว่างทุก column\n",
    "df_checknull[df_checknull.isnull().any(axis=1)] #เช็คว่าว่าง\n",
    "df_checknull[df_checknull.isnull().all(axis=1)] #ดูว่ามีแถวใดว่าง\n",
    "df_checknull.dropna(how='all',inplace=True)     #ลบ\n",
    "print(df_checknull)\n",
    "#ลบทั้ง column ที่มีค่าว่าง\n",
    "df_checknull.dropna(axis=1,how='all',inplace=True)\n",
    "print(df_checknull)"
   ]
  },
  {
   "cell_type": "code",
   "execution_count": null,
   "metadata": {},
   "outputs": [],
   "source": [
    "#5. ลบข้อมูลซ้ำ\n",
    "#เช็คค่าซ้ำ \n",
    "print(df_checknull[df_checknull.duplicated()])\n",
    "df_checknull.drop_duplicates(inplace=True)\n",
    "print(df_checknull)"
   ]
  }
 ],
 "metadata": {
  "interpreter": {
   "hash": "26de051ba29f2982a8de78e945f0abaf191376122a1563185a90213a26c5da77"
  },
  "kernelspec": {
   "display_name": "Python 3.10.4 64-bit",
   "language": "python",
   "name": "python3"
  },
  "language_info": {
   "codemirror_mode": {
    "name": "ipython",
    "version": 3
   },
   "file_extension": ".py",
   "mimetype": "text/x-python",
   "name": "python",
   "nbconvert_exporter": "python",
   "pygments_lexer": "ipython3",
   "version": "3.10.4"
  },
  "orig_nbformat": 4
 },
 "nbformat": 4,
 "nbformat_minor": 2
}
