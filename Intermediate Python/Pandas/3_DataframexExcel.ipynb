{
 "cells": [
  {
   "cell_type": "code",
   "execution_count": null,
   "metadata": {},
   "outputs": [],
   "source": [
    "#การอ่านเอกสาร excel => ไฟล์ ชื่อ sheet encoding\n",
    "import pandas as pd\n",
    "df = pd.read_excel('D:\\เรียน Coding\\Python Studies\\Intermediate Python\\Pandas\\dataupdate.xlsx','score',index_col='name')\n",
    "print(df)"
   ]
  },
  {
   "cell_type": "code",
   "execution_count": null,
   "metadata": {},
   "outputs": [],
   "source": [
    "#ชนิดข้อมูล\n",
    "print(df.dtypes)\n",
    "#แปลงชนิดข้อมูลใน column แบบ category\n",
    "df.grade=df.grade.astype('category')\n",
    "print(df.dtypes)"
   ]
  },
  {
   "cell_type": "code",
   "execution_count": null,
   "metadata": {},
   "outputs": [],
   "source": [
    "#กี่แถวแรก ใช้คำสั่ง head(n) => ค่า default(ไม่ระบุค่าในวงเล็บ) คือ 5\n",
    "print(df.head())\n",
    "print(df.head(10))\n",
    "#กี่แถวสุดท้าย ใช้คำสั่ง tail(n) => ค่า default(ไม่ระบุค่าในวงเล็บ) คือ 5\n",
    "print(df.tail())\n",
    "print(df.tail(10))"
   ]
  },
  {
   "cell_type": "code",
   "execution_count": null,
   "metadata": {},
   "outputs": [],
   "source": [
    "#สุ่ม => sample()\n",
    "print(df.sample())"
   ]
  },
  {
   "cell_type": "code",
   "execution_count": null,
   "metadata": {},
   "outputs": [],
   "source": [
    "#ดูค่าทางสถิติ => describe()\n",
    "print(df.describe())"
   ]
  },
  {
   "cell_type": "code",
   "execution_count": null,
   "metadata": {},
   "outputs": [],
   "source": [
    "#นับจำนวนข้อมูลเป็น (แถว,คอลัมน์) => shape\n",
    "print(df.shape)"
   ]
  },
  {
   "cell_type": "code",
   "execution_count": null,
   "metadata": {},
   "outputs": [],
   "source": [
    "#ตรวจสอบว่ามี column อะไรบ้าง => columns\n",
    "print(df.columns)"
   ]
  },
  {
   "cell_type": "code",
   "execution_count": null,
   "metadata": {},
   "outputs": [],
   "source": [
    "#อ่านข้อมูลแบบ Array => values\n",
    "print(df.values)"
   ]
  },
  {
   "cell_type": "code",
   "execution_count": null,
   "metadata": {},
   "outputs": [],
   "source": [
    "#ค่าทางสถิติเบื้องต้น\n",
    "import pandas as pd\n",
    "df_score = pd.read_excel('D:\\เรียน Coding\\Python Studies\\Intermediate Python\\Pandas\\dataupdate.xlsx','score',index_col='name')\n",
    "print(df_score.score.mean())\n",
    "print(df_score.score.max())\n",
    "print(df_score.score.min())\n",
    "print(df_score.score.count())\n",
    "print(df_score.score.std())\n",
    "print(df_score.score.sum())"
   ]
  },
  {
   "cell_type": "code",
   "execution_count": null,
   "metadata": {},
   "outputs": [],
   "source": [
    "#การเลือก column และข้อมูลแบบช่วง => dataframe.columns[ช่วง]\n",
    "import pandas as pd\n",
    "df2 = pd.read_excel('D:\\เรียน Coding\\Python Studies\\Intermediate Python\\Pandas\\dataupdate.xlsx','weather',index_col='Day')\n",
    "print(df2.Temperature[0:3])\n",
    "#print(df2.Temperature[:]) ข้อมูลทั้งหมด\n",
    "print(df2[['Temperature','Event']][1:3]) #เลือกหลาย column"
   ]
  },
  {
   "cell_type": "code",
   "execution_count": null,
   "metadata": {},
   "outputs": [],
   "source": [
    "#การเลือกแถว\n",
    "import pandas as pd\n",
    "df2 = pd.read_excel('D:\\เรียน Coding\\Python Studies\\Intermediate Python\\Pandas\\dataupdate.xlsx','weather',index_col='Day')\n",
    "print(df2[0:3].Event)                              #เลือกข้อมูลจากแถว 0-2 แล้วเลือก column แสดงผล\n",
    "print(df2.loc['2020-12-02':'2020-12-12']['Event']) #เลือกข้อมูลจากแถว(กำหนดค่า) แล้วเลือก column แสดงผล"
   ]
  },
  {
   "cell_type": "code",
   "execution_count": null,
   "metadata": {},
   "outputs": [],
   "source": [
    "#match-contains\n",
    "import pandas as pd\n",
    "df2 = pd.read_excel('D:\\เรียน Coding\\Python Studies\\Intermediate Python\\Pandas\\dataupdate.xlsx','weather',index_col='Day')\n",
    "\n",
    "#match => ตรงทุกส่วน return เป็น boolean\n",
    "print(df2.Event.str.match('ฝนตก')) \n",
    "\n",
    "#contains => ตรงบางส่วน return เป็น boolean\n",
    "print(df2.Event.str.contains('เมฆ'))"
   ]
  },
  {
   "cell_type": "code",
   "execution_count": null,
   "metadata": {},
   "outputs": [],
   "source": [
    "#Loop แสดงข้อมูล\n",
    "for idx,row in df2.iterrows():\n",
    "    print('อุณหภูมิ = {} ส่งผลให้เกิด = {}'.format(row.Temperature,row.Event))"
   ]
  },
  {
   "cell_type": "code",
   "execution_count": null,
   "metadata": {},
   "outputs": [],
   "source": [
    "#แสดงผลแบบมีเงื่อนไขโดยใช้ and\n",
    "'''\n",
    "1. ต้องการ อุณหภูมิ <=20\n",
    "2. มีแดดร้อน\n",
    "3. มีฝนตก อุณหภูมิ >=35\n",
    "4. มีเมฆมาก อุณหภูมิ <=18\n",
    "'''\n",
    "print(df2.Temperature <= 20)\n"
   ]
  },
  {
   "cell_type": "code",
   "execution_count": null,
   "metadata": {},
   "outputs": [],
   "source": [
    "print(df2.Event == 'แดดร้อน')"
   ]
  },
  {
   "cell_type": "code",
   "execution_count": null,
   "metadata": {},
   "outputs": [],
   "source": [
    "print(df2.loc[(df2.Event == 'ฝนตก') & (df2.Temperature >= 35)])"
   ]
  },
  {
   "cell_type": "code",
   "execution_count": null,
   "metadata": {},
   "outputs": [],
   "source": [
    "print(df2.loc[(df2.Event == 'เมฆมาก') | (df2.Temperature <= 18)])"
   ]
  },
  {
   "cell_type": "code",
   "execution_count": null,
   "metadata": {},
   "outputs": [],
   "source": [
    "#แสดงผลแบบมีเงื่อนไขโดยใช้ isin([List])\n",
    "'''\n",
    "1. ต้องการ อุณหภูมิ 35 เท่านั้น\n",
    "2. อุณหภูมิ 20 หรือ 35 เท่านั้น\n",
    "3. มีแดดร้อน อุณหภูมิ 30 หรือ 35\n",
    "'''\n",
    "print(df2.loc[(df2.Temperature.isin([35]))])\n",
    "print(df2.loc[(df2.Temperature.isin([20,35]))])\n",
    "print(df2.loc[(df2.Temperature.isin([30,35]))])"
   ]
  },
  {
   "cell_type": "code",
   "execution_count": null,
   "metadata": {},
   "outputs": [],
   "source": [
    "#การจัดเรียงข้อมูล\n",
    "#ตาม index\n",
    "df3 = pd.read_excel('D:\\เรียน Coding\\Python Studies\\Intermediate Python\\Pandas\\Stock.xlsx',index_col='Name')\n",
    "df3.sort_index(inplace=True)\n",
    "#print(df3)\n",
    "#ตาม value\n",
    "df3.sort_values('Price',ascending=False,inplace=True)\n",
    "print(df3)"
   ]
  },
  {
   "cell_type": "code",
   "execution_count": null,
   "metadata": {},
   "outputs": [],
   "source": [
    "#การเพิ่ม column\n",
    "df3['delivery'] = 40\n",
    "df3['total'] = df3['Price'] + df3['delivery']\n",
    "print(df3)"
   ]
  },
  {
   "cell_type": "code",
   "execution_count": null,
   "metadata": {},
   "outputs": [],
   "source": [
    "#เปลี่ยนชื่อ column => rename\n",
    "newname = {'Price':'Cost','Amount':'Quantity','total':'summation'}\n",
    "df3.rename(columns=newname,inplace=True)\n",
    "print(df3)"
   ]
  },
  {
   "cell_type": "code",
   "execution_count": null,
   "metadata": {},
   "outputs": [],
   "source": [
    "#การลบ column/row => drop\n",
    "df3['testdel'] = 'del'\n",
    "print(df3)\n",
    "df3.drop('testdel',axis=1,inplace=True)     #ลบ column; axis = 1\n",
    "print(df3)\n"
   ]
  },
  {
   "cell_type": "code",
   "execution_count": null,
   "metadata": {},
   "outputs": [],
   "source": [
    "rows = ['โซฟา','จาน']\n",
    "df3.drop(rows,axis=0,inplace=True)          #ลบ row; axis = 0\n",
    "print(df3)"
   ]
  },
  {
   "cell_type": "code",
   "execution_count": null,
   "metadata": {},
   "outputs": [],
   "source": [
    "#การเพิ่มข้อมูล/แถว\n",
    "product_add = [['หูฟัง','อุปกรณ์คอมพิวเตอร์',1500,10],\n",
    "               ['สายชาร์จ','อุปกรณ์คอมพิวเตอร์',500,100]\n",
    "               ]\n",
    "cols = ['Name','Category','Price','Amount']\n",
    "newStock = pd.DataFrame(data=product_add,columns=cols)\n",
    "newStock.set_index('Name',inplace=True)\n",
    "df3 = df3.append(newStock)\n",
    "print(df3)"
   ]
  },
  {
   "cell_type": "code",
   "execution_count": null,
   "metadata": {},
   "outputs": [],
   "source": [
    "#Summation\n",
    "print(df3.sum(numeric_only=True))"
   ]
  }
 ],
 "metadata": {
  "interpreter": {
   "hash": "26de051ba29f2982a8de78e945f0abaf191376122a1563185a90213a26c5da77"
  },
  "kernelspec": {
   "display_name": "Python 3.10.4 64-bit",
   "language": "python",
   "name": "python3"
  },
  "language_info": {
   "codemirror_mode": {
    "name": "ipython",
    "version": 3
   },
   "file_extension": ".py",
   "mimetype": "text/x-python",
   "name": "python",
   "nbconvert_exporter": "python",
   "pygments_lexer": "ipython3",
   "version": "3.10.4"
  },
  "orig_nbformat": 4
 },
 "nbformat": 4,
 "nbformat_minor": 2
}
