{
 "cells": [
  {
   "cell_type": "code",
   "execution_count": null,
   "metadata": {},
   "outputs": [],
   "source": [
    "#การส่งออกไฟล์ CSV\n",
    "import pandas as pd\n",
    "#ชุดเดียว\n",
    "name_series = pd.Series(['Somchai','Somying','Somjai'])\n",
    "name_df = pd.DataFrame(name_series,columns=['Name'])\n",
    "print(name_df)\n",
    "#หลายชุด\n",
    "surname_series = pd.Series(['Ruktham','Chaidee','Faidee'])\n",
    "age_series = pd.Series([18,19,20])\n",
    "surname_df = pd.DataFrame(surname_series,columns=['Surname'])\n",
    "age_df = pd.DataFrame(age_series,columns=['Age'])\n",
    "df_all = pd.concat([name_df,surname_df,age_df],axis=1)\n",
    "print(df_all)\n",
    "\n",
    "df_all.to_csv('testexport.csv')\n",
    "df_all.to_csv('testexport2.csv',header=True,index=True)\n",
    "df_all.to_csv('testexport3.csv',header=False,index=True)\n",
    "df_all.to_csv('testexport4.csv',header=True,index=False)\n",
    "df_all.to_csv('testexport5.csv',header=False,index=False)"
   ]
  },
  {
   "cell_type": "code",
   "execution_count": null,
   "metadata": {},
   "outputs": [],
   "source": [
    "#การอ่าน CSV\n",
    "import pandas as pd\n",
    "pdread = pd.read_csv('testexport.csv',encoding='utf-8')\n",
    "print(pdread)\n",
    "#อ่านบาง column\n",
    "cols = ['Name','Surname']\n",
    "pdreadsome = pd.read_csv('testexport.csv',encoding='utf-8',usecols=cols,index_col='Name')\n",
    "print(pdreadsome)\n",
    "#กำหนด header\n",
    "colsName = ['Name','Surname','Age']\n",
    "pdreadhd = pd.read_csv('testexport3.csv',encoding='utf-8',names=colsName)\n",
    "print(pdreadhd)"
   ]
  },
  {
   "cell_type": "code",
   "execution_count": null,
   "metadata": {},
   "outputs": [],
   "source": []
  }
 ],
 "metadata": {
  "interpreter": {
   "hash": "26de051ba29f2982a8de78e945f0abaf191376122a1563185a90213a26c5da77"
  },
  "kernelspec": {
   "display_name": "Python 3.10.4 64-bit",
   "language": "python",
   "name": "python3"
  },
  "language_info": {
   "codemirror_mode": {
    "name": "ipython",
    "version": 3
   },
   "file_extension": ".py",
   "mimetype": "text/x-python",
   "name": "python",
   "nbconvert_exporter": "python",
   "pygments_lexer": "ipython3",
   "version": "3.10.4"
  },
  "orig_nbformat": 4
 },
 "nbformat": 4,
 "nbformat_minor": 2
}
