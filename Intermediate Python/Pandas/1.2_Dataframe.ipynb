{
 "cells": [
  {
   "cell_type": "code",
   "execution_count": null,
   "metadata": {},
   "outputs": [],
   "source": [
    "import pandas as pd\n",
    "#การสร้างจาก list และ tuple\n",
    "data_list = [10,20,30,40]\n",
    "data_tuple = (10,20,30,40)\n",
    "pl = pd.DataFrame(data_list)\n",
    "pt = pd.DataFrame(data_tuple)\n",
    "print(pl)\n",
    "print(pd)"
   ]
  },
  {
   "cell_type": "code",
   "execution_count": null,
   "metadata": {},
   "outputs": [],
   "source": [
    "#การระบุ column\n",
    "cols = ['อายุ']\n",
    "pl_col = pd.DataFrame(data_list,columns=cols)\n",
    "print(pl_col)"
   ]
  },
  {
   "cell_type": "code",
   "execution_count": null,
   "metadata": {},
   "outputs": [],
   "source": [
    "import pandas as pd\n",
    "#การสร้าง dataframe จาก list หลายมิติ\n",
    "data_it = [\n",
    "    ['keyboard','computer acessories',1200],\n",
    "    ['doll','toys',900],\n",
    "    ['iPhone 13 Pro','smartphone',40000]\n",
    "]\n",
    "cols2 = ['name','category','price']\n",
    "pdit = pd.DataFrame(data_it,columns=cols2)\n",
    "print(pdit)\n",
    "#Zip ข้อมูล\n",
    "l1 = ['Fried Rice','Milkshake','Kaprao Moo']\n",
    "l2 = ['Food','Drinks','Food']\n",
    "l3 = [50,40,40]\n",
    "pfood = pd.DataFrame(list(zip(l1,l2,l3)),columns=cols2)\n",
    "print(pfood)"
   ]
  },
  {
   "cell_type": "code",
   "execution_count": null,
   "metadata": {},
   "outputs": [],
   "source": [
    "#การสร้าง dataframe จาก dictionary\n",
    "data_salary = [\n",
    "    {'name':'A','salary':18000},\n",
    "    {'name':'B','salary':25000},\n",
    "    {'name':'C','salary':35000}\n",
    "]\n",
    "psalar = pd.DataFrame(data_salary)\n",
    "print(psalar)\n",
    "#กำหนดชื่อ column\n",
    "psalar.set_index(['name'],inplace=True)\n",
    "print(psalar)"
   ]
  },
  {
   "cell_type": "code",
   "execution_count": 9,
   "metadata": {},
   "outputs": [
    {
     "name": "stdout",
     "output_type": "stream",
     "text": [
      "      Name\n",
      "0  Somchai\n",
      "1  Somying\n",
      "2   Somjai\n",
      "      Name  Surname  Age\n",
      "0  Somchai  Ruktham   18\n",
      "1  Somying  Chaidee   19\n",
      "2   Somjai   Faidee   20\n"
     ]
    }
   ],
   "source": [
    "#การสร้าง dataframe จาก Series\n",
    "#ชุดเดียว\n",
    "name_series = pd.Series(['Somchai','Somying','Somjai'])\n",
    "name_df = pd.DataFrame(name_series,columns=['Name'])\n",
    "print(name_df)\n",
    "#หลายชุด\n",
    "surname_series = pd.Series(['Ruktham','Chaidee','Faidee'])\n",
    "age_series = pd.Series([18,19,20])\n",
    "surname_df = pd.DataFrame(surname_series,columns=['Surname'])\n",
    "age_df = pd.DataFrame(age_series,columns=['Age'])\n",
    "df_all = pd.concat([name_df,surname_df,age_df],axis=1)\n",
    "print(df_all)"
   ]
  }
 ],
 "metadata": {
  "interpreter": {
   "hash": "26de051ba29f2982a8de78e945f0abaf191376122a1563185a90213a26c5da77"
  },
  "kernelspec": {
   "display_name": "Python 3.10.4 64-bit",
   "language": "python",
   "name": "python3"
  },
  "language_info": {
   "codemirror_mode": {
    "name": "ipython",
    "version": 3
   },
   "file_extension": ".py",
   "mimetype": "text/x-python",
   "name": "python",
   "nbconvert_exporter": "python",
   "pygments_lexer": "ipython3",
   "version": "3.10.4"
  },
  "orig_nbformat": 4
 },
 "nbformat": 4,
 "nbformat_minor": 2
}
