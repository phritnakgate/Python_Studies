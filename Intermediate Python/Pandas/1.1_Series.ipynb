{
 "cells": [
  {
   "cell_type": "code",
   "execution_count": 2,
   "metadata": {},
   "outputs": [
    {
     "name": "stdout",
     "output_type": "stream",
     "text": [
      "0          10\n",
      "1          20\n",
      "2          30\n",
      "3      buikem\n",
      "4    iphoneXS\n",
      "5        True\n",
      "dtype: object\n"
     ]
    }
   ],
   "source": [
    "import numpy as np\n",
    "import pandas as pd\n",
    "#การสร้าง series ร่วมกับ numpy\n",
    "data_ls=[10,20,30,'buikem','iphoneXS',True]\n",
    "ndata = np.array(data_ls)\n",
    "s3 = pd.Series(ndata)\n",
    "print(s3)\n"
   ]
  },
  {
   "cell_type": "code",
   "execution_count": 3,
   "metadata": {},
   "outputs": [
    {
     "name": "stdout",
     "output_type": "stream",
     "text": [
      "0          10\n",
      "1          20\n",
      "2          30\n",
      "3      buikem\n",
      "4    iphoneXS\n",
      "5        True\n",
      "dtype: object\n"
     ]
    }
   ],
   "source": [
    "#การสร้าง series จาก tuple\n",
    "data_tup=(10,20,30,'buikem','iphoneXS',True)\n",
    "s4 = pd.Series(data_tup)\n",
    "print(s4)"
   ]
  },
  {
   "cell_type": "code",
   "execution_count": 4,
   "metadata": {},
   "outputs": [
    {
     "name": "stdout",
     "output_type": "stream",
     "text": [
      "50\n",
      "30\n"
     ]
    }
   ],
   "source": [
    "#การสร้าง series จาก dict\n",
    "data_dict = {'Grape':50,'Banana':20,'Papaya':30}\n",
    "s6 = pd.Series(data_dict)\n",
    "print(s6[0])        #อ้างอิง index ใน dict\n",
    "print(s6['Papaya'])"
   ]
  },
  {
   "cell_type": "code",
   "execution_count": 5,
   "metadata": {},
   "outputs": [
    {
     "name": "stdout",
     "output_type": "stream",
     "text": [
      "50    มะม่วง\n",
      "20     กล้วย\n",
      "30     องุ่น\n",
      "dtype: object\n"
     ]
    }
   ],
   "source": [
    "#การสร้าง series แบบกำหนดหมายเลข index\n",
    "items = ['มะม่วง','กล้วย','องุ่น']\n",
    "idx = [50,20,30]\n",
    "s5 = pd.Series(items,index=idx)\n",
    "print(s5)"
   ]
  },
  {
   "cell_type": "code",
   "execution_count": 6,
   "metadata": {},
   "outputs": [
    {
     "name": "stdout",
     "output_type": "stream",
     "text": [
      "Mon     Monday\n",
      "Tue    Tuesday\n",
      "dtype: object\n",
      "Fri      Friday\n",
      "Sat    Saturday\n",
      "Sun      Sunday\n",
      "dtype: object\n",
      "Wed    Wednesday\n",
      "Thu     Thursday\n",
      "Fri       Friday\n",
      "Sat     Saturday\n",
      "dtype: object\n"
     ]
    }
   ],
   "source": [
    "#การ Slice Index ใน Series\n",
    "dict_data = {'Mon':'Monday',\n",
    "             'Tue':'Tuesday',\n",
    "             'Wed':'Wednesday',\n",
    "             'Thu':'Thursday',\n",
    "             'Fri':'Friday',\n",
    "             'Sat':'Saturday',\n",
    "             'Sun':'Sunday'}\n",
    "s7 = pd.Series(dict_data)\n",
    "print(s7[:2])\n",
    "print(s7[4:])\n",
    "print(s7[2:6])"
   ]
  }
 ],
 "metadata": {
  "interpreter": {
   "hash": "26de051ba29f2982a8de78e945f0abaf191376122a1563185a90213a26c5da77"
  },
  "kernelspec": {
   "display_name": "Python 3.10.4 64-bit",
   "language": "python",
   "name": "python3"
  },
  "language_info": {
   "codemirror_mode": {
    "name": "ipython",
    "version": 3
   },
   "file_extension": ".py",
   "mimetype": "text/x-python",
   "name": "python",
   "nbconvert_exporter": "python",
   "pygments_lexer": "ipython3",
   "version": "3.10.4"
  },
  "orig_nbformat": 4
 },
 "nbformat": 4,
 "nbformat_minor": 2
}
