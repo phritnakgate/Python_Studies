{
 "cells": [
  {
   "cell_type": "code",
   "execution_count": null,
   "metadata": {},
   "outputs": [],
   "source": [
    "#กราฟวงกลม\n",
    "import matplotlib.pyplot as plt\n",
    "data=[15,30,45,60,40]\n",
    "lang=['PHP','Flutter','Nodejs','C#','Java']\n",
    "colors=['green','orange','yellow','red','cyan']\n",
    "exp = [0.1,0.1,0.1,0.1,0.1]\n",
    "plt.pie(data,labels=lang,colors=colors,autopct='%.1f%%',shadow=True,explode=exp)\n",
    "plt.show()"
   ]
  }
 ],
 "metadata": {
  "interpreter": {
   "hash": "26de051ba29f2982a8de78e945f0abaf191376122a1563185a90213a26c5da77"
  },
  "kernelspec": {
   "display_name": "Python 3.10.4 64-bit",
   "language": "python",
   "name": "python3"
  },
  "language_info": {
   "codemirror_mode": {
    "name": "ipython",
    "version": 3
   },
   "file_extension": ".py",
   "mimetype": "text/x-python",
   "name": "python",
   "nbconvert_exporter": "python",
   "pygments_lexer": "ipython3",
   "version": "3.10.4"
  },
  "orig_nbformat": 4
 },
 "nbformat": 4,
 "nbformat_minor": 2
}
