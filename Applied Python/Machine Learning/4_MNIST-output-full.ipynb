{
 "cells": [
  {
   "cell_type": "code",
   "execution_count": null,
   "metadata": {},
   "outputs": [],
   "source": [
    "from scipy.io import loadmat\n",
    "import matplotlib.pyplot as plt\n",
    "mnist_raw = loadmat('mnist-original.mat')\n",
    "mnist = {\n",
    "    'data': mnist_raw['data'].T,\n",
    "    'target': mnist_raw['label'][0]\n",
    "}\n",
    "x,y = mnist['data'],mnist['target']\n",
    "\n",
    "num = x[12345]\n",
    "num_image = num.reshape(28,28)  #แปลงเป็น array 2 มิติขนาด 28x28\n",
    "\n",
    "plt.imshow(num_image, cmap='gray', interpolation='nearest')"
   ]
  }
 ],
 "metadata": {
  "interpreter": {
   "hash": "26de051ba29f2982a8de78e945f0abaf191376122a1563185a90213a26c5da77"
  },
  "kernelspec": {
   "display_name": "Python 3.10.4 64-bit",
   "language": "python",
   "name": "python3"
  },
  "language_info": {
   "codemirror_mode": {
    "name": "ipython",
    "version": 3
   },
   "file_extension": ".py",
   "mimetype": "text/x-python",
   "name": "python",
   "nbconvert_exporter": "python",
   "pygments_lexer": "ipython3",
   "version": "3.10.4"
  },
  "orig_nbformat": 4
 },
 "nbformat": 4,
 "nbformat_minor": 2
}
